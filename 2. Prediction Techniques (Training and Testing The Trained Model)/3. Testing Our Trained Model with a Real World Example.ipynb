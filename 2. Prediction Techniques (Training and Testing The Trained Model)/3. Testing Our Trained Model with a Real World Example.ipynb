{
 "cells": [
  {
   "cell_type": "code",
   "execution_count": 41,
   "metadata": {},
   "outputs": [],
   "source": [
    "import joblib\n",
    "import pandas as pd\n",
    "from datetime import datetime"
   ]
  },
  {
   "cell_type": "code",
   "execution_count": 42,
   "metadata": {},
   "outputs": [],
   "source": [
    "# 1. Load the saved model bundle\n",
    "bundle = joblib.load('github_stars_predictor_bundle.pkl')\n",
    "model = bundle['model']\n",
    "scaler = bundle['scaler']\n",
    "encoders = bundle['encoders']\n",
    "feature_names = bundle['feature_names']"
   ]
  },
  {
   "cell_type": "code",
   "execution_count": 43,
   "metadata": {},
   "outputs": [],
   "source": [
    "# 2. Create a real-world sample repository\n",
    "sample_repo = {\n",
    "    'name': 'ml-web-app',\n",
    "    'full_name': 'data-scientist/ml-web-app',\n",
    "    'created_at': '2023-05-10T08:00:00Z',\n",
    "    'updated_at': '2023-11-15T14:25:00Z',\n",
    "    'pushed_at': '2023-11-15T14:30:00Z',\n",
    "    'language': 'Python',  # Must be in encoders['language'].classes_\n",
    "    'license': 'mit',      # Must be in encoders['license'].classes_\n",
    "    'forks': 87,\n",
    "    'watchers': 420,\n",
    "    'open_issues': 12,\n",
    "    'size': 3500,\n",
    "    'has_wiki': True,\n",
    "    'has_projects': False,\n",
    "    'has_downloads': True,\n",
    "    'is_fork': False,\n",
    "    'archived': False,\n",
    "    'subscribers_count': 150,\n",
    "    'readme_size': 1024,\n",
    "    'commits_count': 85,\n",
    "    'contributors_count': 12\n",
    "}"
   ]
  },
  {
   "cell_type": "code",
   "execution_count": 44,
   "metadata": {},
   "outputs": [],
   "source": [
    "# 3. Preprocessing function for new data\n",
    "def preprocess_new_repo(repo_data, bundle):\n",
    "    \"\"\"Transform raw repo data into model-ready format\"\"\"\n",
    "    # Convert to DataFrame\n",
    "    repo_df = pd.DataFrame([repo_data])\n",
    "    \n",
    "    # Process dates\n",
    "    for col in ['created_at', 'updated_at', 'pushed_at']:\n",
    "        repo_df[col] = pd.to_datetime(repo_df[col], utc=True).dt.tz_localize(None)\n",
    "        repo_df[f'{col}_days'] = (repo_df[col] - pd.Timestamp(\"1970-01-01\")) // pd.Timedelta('1d')\n",
    "    \n",
    "    # Encode categoricals\n",
    "    for col in ['language', 'license']:\n",
    "        try:\n",
    "            repo_df[col] = bundle['encoders'][col].transform([repo_data[col]])[0]\n",
    "        except ValueError as e:\n",
    "            print(f\"Error: {str(e)}\")\n",
    "            print(f\"Allowed {col}s: {list(bundle['encoders'][col].classes_)}\")\n",
    "            return None\n",
    "    \n",
    "    # Select and order features exactly like training\n",
    "    processed = repo_df[bundle['feature_names']]\n",
    "    \n",
    "    # Fill NA and scale\n",
    "    processed = processed.fillna(0)\n",
    "    return scaler.transform(processed)\n"
   ]
  },
  {
   "cell_type": "code",
   "execution_count": 45,
   "metadata": {},
   "outputs": [
    {
     "name": "stdout",
     "output_type": "stream",
     "text": [
      "\n",
      "=== GitHub Stars Prediction ===\n",
      "Repository: data-scientist/ml-web-app\n",
      "Language: Python\n",
      "License: mit\n",
      "Created: 2023-05-10T08:00:00Z\n",
      "\n",
      "Predicted Stars: 420\n",
      "\n",
      "Model was trained with:\n",
      "Languages: ['Assembly', 'Astro', 'Batchfile', 'Blade', 'C', 'C#', 'C++', 'CSS', 'Clojure', 'Cuda', 'Dart', 'Dockerfile', 'Elixir', 'Go', 'HTML', 'Haskell', 'Java', 'JavaScript', 'Jinja', 'Julia', 'Jupyter Notebook', 'Kotlin', 'LLVM', 'Lua', 'MDX', 'Makefile', 'Markdown', 'Nunjucks', 'Objective-C', 'PHP', 'PowerShell', 'Python', 'Roff', 'Ruby', 'Rust', 'SCSS', 'Scala', 'Shell', 'Svelte', 'Swift', 'TeX', 'TypeScript', 'V', 'Vim Script', 'Vue', 'Zig', 'nan']\n",
      "Licenses: ['agpl-3.0', 'apache-2.0', 'bsd-2-clause', 'bsd-3-clause', 'cc-by-4.0', 'cc-by-sa-4.0', 'cc0-1.0', 'gpl-2.0', 'gpl-3.0', 'isc', 'lgpl-3.0', 'mit', 'mpl-2.0', 'nan', 'ofl-1.1', 'other', 'unlicense', 'vim', 'wtfpl', 'zlib']\n",
      "Features (18): ['forks', 'watchers', 'open_issues', 'size', 'has_wiki', 'has_projects', 'has_downloads', 'is_fork', 'archived', 'language', 'license', 'subscribers_count', 'contributors_count', 'commits_count', 'readme_size', 'created_at_days', 'updated_at_days', 'pushed_at_days']\n"
     ]
    }
   ],
   "source": [
    "# 4. Make and show prediction\n",
    "processed_data = preprocess_new_repo(sample_repo, bundle)\n",
    "\n",
    "if processed_data is not None:\n",
    "    prediction = model.predict(processed_data)[0]\n",
    "    \n",
    "    print(\"\\n=== GitHub Stars Prediction ===\")\n",
    "    print(f\"Repository: {sample_repo['full_name']}\")\n",
    "    print(f\"Language: {sample_repo['language']}\")\n",
    "    print(f\"License: {sample_repo['license']}\")\n",
    "    print(f\"Created: {sample_repo['created_at']}\")\n",
    "    print(f\"\\nPredicted Stars: {round(prediction)}\")\n",
    "    \n",
    "    # Show confidence (for regression models)\n",
    "    if hasattr(model, 'predict_proba'):\n",
    "        proba = model.predict_proba(processed_data)[0]\n",
    "        print(f\"Confidence: {max(proba)*100:.1f}%\")\n",
    "    \n",
    "    # Show available categories\n",
    "    print(\"\\nModel was trained with:\")\n",
    "    print(f\"Languages: {list(encoders['language'].classes_)}\")\n",
    "    print(f\"Licenses: {list(encoders['license'].classes_)}\")\n",
    "    print(f\"Features ({len(feature_names)}): {feature_names}\")\n",
    "else:\n",
    "    print(\"Prediction failed due to preprocessing error\")"
   ]
  },
  {
   "cell_type": "code",
   "execution_count": null,
   "metadata": {},
   "outputs": [],
   "source": []
  }
 ],
 "metadata": {
  "kernelspec": {
   "display_name": "Python 3",
   "language": "python",
   "name": "python3"
  },
  "language_info": {
   "codemirror_mode": {
    "name": "ipython",
    "version": 3
   },
   "file_extension": ".py",
   "mimetype": "text/x-python",
   "name": "python",
   "nbconvert_exporter": "python",
   "pygments_lexer": "ipython3",
   "version": "3.6.0"
  }
 },
 "nbformat": 4,
 "nbformat_minor": 2
}
